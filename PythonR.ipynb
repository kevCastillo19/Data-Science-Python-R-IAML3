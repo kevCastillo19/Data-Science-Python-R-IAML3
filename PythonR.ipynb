{
 "cells": [
  {
   "cell_type": "markdown",
   "id": "eb9f3244-475e-476d-9afc-1b4e3d138923",
   "metadata": {},
   "source": [
    "### Importar librerias Python"
   ]
  },
  {
   "cell_type": "code",
   "execution_count": 29,
   "id": "c6941125-56ea-4d0c-9d87-33658a68ed3f",
   "metadata": {},
   "outputs": [],
   "source": [
    "import pandas as pd\n",
    "import numpy as np\n",
    "from datetime import datetime, timedelta\n",
    "import random\n",
    "import time\n",
    "from scipy.stats import zscore\n",
    "from PIL import Image\n",
    "from IPython.display import display"
   ]
  },
  {
   "cell_type": "markdown",
   "id": "cdb508d6-d029-40cb-9a9c-08e754d7a26f",
   "metadata": {},
   "source": [
    "### Configuracion de RPy2\n",
    "\n",
    "#### Importar módulos de RPy2"
   ]
  },
  {
   "cell_type": "code",
   "execution_count": 30,
   "id": "6dcf6f3d-b672-491a-b011-1949e53d7873",
   "metadata": {},
   "outputs": [],
   "source": [
    "import os\n",
    "import sys # Importar sys para salir si hay problemas con R_HOME"
   ]
  },
  {
   "cell_type": "markdown",
   "id": "fc784bed-a8e1-4246-ac5a-5a0429e63465",
   "metadata": {},
   "source": [
    "#### TROUBLESHOOTING / CONFIGURACIÓN"
   ]
  },
  {
   "cell_type": "code",
   "execution_count": 31,
   "id": "20b60b22-9253-4211-982a-56cea0b5c518",
   "metadata": {},
   "outputs": [
    {
     "name": "stdout",
     "output_type": "stream",
     "text": [
      "Verificando PATH después de añadir R y RTools:\n",
      "c:/rtools45/x86_64-w64-mingw32.static.posix/bin;c:/rtools45/usr/bin;c:/rtools45/x86_64-w64-mingw32.static.posix/bin;c:/rtools45/usr/bin;c:/rtools45/x86_64-w64-mingw32.static.posix/bin;c:/rtools45/usr/bin;C:\\rtools42\\usr\\bin;C:/PROGRA~1/R/R-45~1.0\\bin\\x64;D:\\Kodigo\\new-virtual-environment\\venv311\\Scripts;C:\\Users\\kevin\\oracle\\dbhomeXE\\bin;C:\\Program Files\\Common Files\\Oracle\\Java\\javapath;C:\\WINDOWS\\system32;C:\\WINDOWS;C:\\WINDOWS\\System32\\Wbem;C:\\WINDOWS\\System32\\WindowsPowerShell\\v1.0\\;C:\\WINDOWS\\System32\\OpenSSH\\;C:\\Program Files\\nodejs\\;C:\\Program Files\\Git\\cmd;C:\\Program Files\\Apache\\maven\\bin\\mvnd.cmd;C:\\Program Files\\Maven\\apache-maven-3.9.9\\bin;C:\\Program Files\\Docker\\Docker\\resources\\bin;C:\\Program Files (x86)\\Google\\Cloud SDK\\google-cloud-sdk\\bin;C:\\Program Files\\dotnet\\;C:\\Program Files (x86)\\Microsoft Visual Studio\\2022\\BuildTools\\VC\\Tools\\MSVC\\14.44.35207\\bin\\Hostx64\\x64\\cl.exe;C:\\Users\\kevin\\AppData\\Local\\Programs\\Python\\Python313\\Scripts\\;C:\\Users\\kevin\\AppData\\Local\\Programs\\Python\\Python313\\;C:\\Users\\kevin\\AppData\\Local\\Microsoft\\WindowsApps;C:\\Users\\kevin\\AppData\\Roaming\\npm;C:\\Users\\kevin\\AppData\\Local\\Programs\\Microsoft VS Code\\bin;C:\\Users\\kevin\\.dotnet\\tools;C:\\Users\\kevin\\AppData\\Local\\Programs\\Python\\Python311\\Scripts\\;C:\\Users\\kevin\\AppData\\Local\\Programs\\Python\\Python311\\;;C:/PROGRA~1/R/R-45~1.0\\bin\\x64\n"
     ]
    }
   ],
   "source": [
    "# --- INICIA EL TROUBLESHOOTING / CONFIGURACIÓN ---\n",
    "# 1. Define la ruta RAÍZ de tu instalación de R.\n",
    "r_home_path = 'C:/PROGRA~1/R/R-45~1.0' \n",
    "\n",
    "# 2. Establece la variable de entorno R_HOME.\n",
    "os.environ['R_HOME'] = r_home_path\n",
    "os.environ['LANG'] = 'en_US.UTF-8'\n",
    "\n",
    "# 3. Añade la ruta del ejecutable de R (bin/x64 para 64-bit) a la variable PATH.\n",
    "r_bin_path = os.path.join(r_home_path, 'bin', 'x64')\n",
    "\n",
    "# Añade esta ruta al PATH existente si aún no está.\n",
    "if r_bin_path not in os.environ['PATH']:\n",
    "    os.environ['PATH'] = r_bin_path + os.pathsep + os.environ['PATH']\n",
    "\n",
    "# --- AÑADIMOS ESTO PARA DIAGNÓSTICO DE RTOOLS ---\n",
    "rtools_path = 'C:\\\\rtools42\\\\usr\\\\bin'\n",
    "\n",
    "# Añade la ruta de RTools al PATH si no está ya.\n",
    "if rtools_path not in os.environ['PATH']:\n",
    "    os.environ['PATH'] = rtools_path + os.pathsep + os.environ['PATH']\n",
    "\n",
    "print(\"Verificando PATH después de añadir R y RTools:\")\n",
    "print(os.environ['PATH'])\n",
    "# --- TERMINA EL TROUBLESHOOTING / CONFIGURACIÓN ---"
   ]
  },
  {
   "cell_type": "markdown",
   "id": "41a2479b-5caa-4f69-9fcd-2c5434d7f41c",
   "metadata": {},
   "source": [
    "#### Configuracion de RPy2"
   ]
  },
  {
   "cell_type": "code",
   "execution_count": 32,
   "id": "130b8e32-6954-4055-815f-f823dbd8b27e",
   "metadata": {},
   "outputs": [],
   "source": [
    "# Configuración de RPy2\n",
    "from rpy2.robjects import r, globalenv\n",
    "from rpy2.robjects.packages import importr\n",
    "from rpy2.robjects import pandas2ri\n",
    "from rpy2.robjects.conversion import localconverter\n",
    "import rpy2.robjects as ro"
   ]
  },
  {
   "cell_type": "code",
   "execution_count": 33,
   "id": "ffd048f9-8952-48a6-81b6-180892a895a5",
   "metadata": {},
   "outputs": [
    {
     "name": "stdout",
     "output_type": "stream",
     "text": [
      "\n",
      "Importando paquetes R...\n",
      "  ggplot2 cargado correctamente\n",
      "  dplyr cargado correctamente\n",
      "  lubridate cargado correctamente\n"
     ]
    }
   ],
   "source": [
    "# Importar paquetes R necesarios\n",
    "print(\"\\nImportando paquetes R...\")\n",
    "try:\n",
    "    with localconverter(ro.default_converter + pandas2ri.converter + numpy2ri.converter) as cv:\n",
    "        base = importr('base')\n",
    "        stats = importr('stats')\n",
    "        utils = importr('utils')\n",
    "        \n",
    "        r_packages = ['ggplot2', 'dplyr', 'lubridate']\n",
    "        for pkg in r_packages:\n",
    "            try:\n",
    "                importr(pkg)\n",
    "                print(f\"  {pkg} cargado correctamente\")\n",
    "            except Exception as pkg_e:\n",
    "                print(f\"  Error al cargar {pkg}: {pkg_e}\")\n",
    "                print(f\"  Intentando instalar {pkg}...\")\n",
    "                utils.install_packages(pkg)\n",
    "                print(f\"  {pkg} instalado y cargado\")\n",
    "                \n",
    "        ggplot2 = importr('ggplot2')\n",
    "        dplyr = importr('dplyr')\n",
    "        lubridate = importr('lubridate')\n",
    "        \n",
    "except Exception as e:\n",
    "    print(f\"\\n¡ERROR CRÍTICO! RPy2 o R no pudieron inicializarse correctamente: {e}\")\n",
    "    print(\"Por favor, revisa los pasos de instalación de R y RTools, y la configuración de PATH.\")\n",
    "    sys.exit(1) # Salir del script si hay un error fatal con R."
   ]
  },
  {
   "cell_type": "markdown",
   "id": "42468e3d-2993-414a-8e44-3146f9259bbb",
   "metadata": {},
   "source": [
    "#### Leer Dataset"
   ]
  },
  {
   "cell_type": "code",
   "execution_count": 34,
   "id": "9f6b3702-9f69-499f-a70c-6cdbdb629291",
   "metadata": {},
   "outputs": [],
   "source": [
    "df = pd.read_csv(\"Dataset_salary_2024.csv\")"
   ]
  },
  {
   "cell_type": "markdown",
   "id": "2c94bb7a-0a52-43ec-b9fb-e1251e588fb2",
   "metadata": {},
   "source": [
    "### Limpieza y transformacion de DataFrame con Python"
   ]
  },
  {
   "cell_type": "code",
   "execution_count": 35,
   "id": "30b72fde-5a31-4fbb-a324-3979d15d1715",
   "metadata": {},
   "outputs": [
    {
     "name": "stdout",
     "output_type": "stream",
     "text": [
      "Original: 16534 filas\n",
      "Sin outliers: 16068 filas\n"
     ]
    },
    {
     "data": {
      "text/html": [
       "<div>\n",
       "<style scoped>\n",
       "    .dataframe tbody tr th:only-of-type {\n",
       "        vertical-align: middle;\n",
       "    }\n",
       "\n",
       "    .dataframe tbody tr th {\n",
       "        vertical-align: top;\n",
       "    }\n",
       "\n",
       "    .dataframe thead th {\n",
       "        text-align: right;\n",
       "    }\n",
       "</style>\n",
       "<table border=\"1\" class=\"dataframe\">\n",
       "  <thead>\n",
       "    <tr style=\"text-align: right;\">\n",
       "      <th></th>\n",
       "      <th>work_year</th>\n",
       "      <th>experience_level</th>\n",
       "      <th>employment_type</th>\n",
       "      <th>job_title</th>\n",
       "      <th>salary_in_usd</th>\n",
       "      <th>employee_residence</th>\n",
       "      <th>remote_ratio</th>\n",
       "      <th>company_location</th>\n",
       "      <th>company_size</th>\n",
       "      <th>remote_type</th>\n",
       "    </tr>\n",
       "  </thead>\n",
       "  <tbody>\n",
       "    <tr>\n",
       "      <th>0</th>\n",
       "      <td>2024</td>\n",
       "      <td>SE</td>\n",
       "      <td>FT</td>\n",
       "      <td>AI Engineer</td>\n",
       "      <td>202730</td>\n",
       "      <td>US</td>\n",
       "      <td>0</td>\n",
       "      <td>US</td>\n",
       "      <td>M</td>\n",
       "      <td>IN-PERSON</td>\n",
       "    </tr>\n",
       "    <tr>\n",
       "      <th>1</th>\n",
       "      <td>2024</td>\n",
       "      <td>SE</td>\n",
       "      <td>FT</td>\n",
       "      <td>AI Engineer</td>\n",
       "      <td>92118</td>\n",
       "      <td>US</td>\n",
       "      <td>0</td>\n",
       "      <td>US</td>\n",
       "      <td>M</td>\n",
       "      <td>IN-PERSON</td>\n",
       "    </tr>\n",
       "    <tr>\n",
       "      <th>2</th>\n",
       "      <td>2024</td>\n",
       "      <td>SE</td>\n",
       "      <td>FT</td>\n",
       "      <td>Data Engineer</td>\n",
       "      <td>130500</td>\n",
       "      <td>US</td>\n",
       "      <td>0</td>\n",
       "      <td>US</td>\n",
       "      <td>M</td>\n",
       "      <td>IN-PERSON</td>\n",
       "    </tr>\n",
       "    <tr>\n",
       "      <th>3</th>\n",
       "      <td>2024</td>\n",
       "      <td>SE</td>\n",
       "      <td>FT</td>\n",
       "      <td>Data Engineer</td>\n",
       "      <td>96000</td>\n",
       "      <td>US</td>\n",
       "      <td>0</td>\n",
       "      <td>US</td>\n",
       "      <td>M</td>\n",
       "      <td>IN-PERSON</td>\n",
       "    </tr>\n",
       "    <tr>\n",
       "      <th>4</th>\n",
       "      <td>2024</td>\n",
       "      <td>SE</td>\n",
       "      <td>FT</td>\n",
       "      <td>Machine Learning Engineer</td>\n",
       "      <td>190000</td>\n",
       "      <td>US</td>\n",
       "      <td>0</td>\n",
       "      <td>US</td>\n",
       "      <td>M</td>\n",
       "      <td>IN-PERSON</td>\n",
       "    </tr>\n",
       "  </tbody>\n",
       "</table>\n",
       "</div>"
      ],
      "text/plain": [
       "   work_year experience_level employment_type                  job_title  \\\n",
       "0       2024               SE              FT                AI Engineer   \n",
       "1       2024               SE              FT                AI Engineer   \n",
       "2       2024               SE              FT              Data Engineer   \n",
       "3       2024               SE              FT              Data Engineer   \n",
       "4       2024               SE              FT  Machine Learning Engineer   \n",
       "\n",
       "   salary_in_usd employee_residence  remote_ratio company_location  \\\n",
       "0         202730                 US             0               US   \n",
       "1          92118                 US             0               US   \n",
       "2         130500                 US             0               US   \n",
       "3          96000                 US             0               US   \n",
       "4         190000                 US             0               US   \n",
       "\n",
       "  company_size remote_type  \n",
       "0            M   IN-PERSON  \n",
       "1            M   IN-PERSON  \n",
       "2            M   IN-PERSON  \n",
       "3            M   IN-PERSON  \n",
       "4            M   IN-PERSON  "
      ]
     },
     "execution_count": 35,
     "metadata": {},
     "output_type": "execute_result"
    }
   ],
   "source": [
    "# --- Eliminación de Outliers ---\n",
    "# Calcular Z-scores solo en columnas numéricas\n",
    "z_scores = np.abs(zscore(df.select_dtypes(include=np.number)))\n",
    "\n",
    "# Crear máscara para valores no-atípicos\n",
    "mask = (z_scores < 3).all(axis=1)\n",
    "\n",
    "# Aplicar máscara al DataFrame\n",
    "df_jobs_salary = df[mask].copy()\n",
    "print(f\"Original: {df.shape[0]} filas\")\n",
    "print(f\"Sin outliers: {df_jobs_salary.shape[0]} filas\")\n",
    "\n",
    "# --- Transformación de columnas ---\n",
    "\n",
    "# Eliminar columnas no necesarias\n",
    "df_jobs_salary = df_jobs_salary.drop(columns=['salary', 'salary_currency'])\n",
    "\n",
    "# Crear columna 'remote_type' a partir de 'remote_ratio'\n",
    "def remote_category(ratio):\n",
    "    if ratio == 0:\n",
    "        return 'IN-PERSON'\n",
    "    elif ratio == 50:\n",
    "        return 'HYBRID'\n",
    "    elif ratio == 100:\n",
    "        return 'REMOTE'\n",
    "    else:\n",
    "        return 'UNKNOWN'\n",
    "\n",
    "df_jobs_salary['remote_type'] = df_jobs_salary['remote_ratio'].apply(remote_category)\n",
    "\n",
    "# Normalizar valores a mayúsculas\n",
    "cols_to_upper = ['experience_level', 'employment_type', 'employee_residence', 'company_location', 'company_size']\n",
    "for col in cols_to_upper:\n",
    "    df_jobs_salary[col] = df_jobs_salary[col].str.upper()\n",
    "\n",
    "# Convertir columnas a tipo categoría\n",
    "for col in cols_to_upper:\n",
    "    df_jobs_salary[col] = df_jobs_salary[col].astype('category')\n",
    "\n",
    "# Ver una muestra del DataFrame limpio\n",
    "df_jobs_salary.head()"
   ]
  },
  {
   "cell_type": "markdown",
   "id": "fd9d000d-fc06-49a3-947b-5a56cf88bb8d",
   "metadata": {},
   "source": [
    "### Convertir DataFrame de Pandas a R"
   ]
  },
  {
   "cell_type": "code",
   "execution_count": 36,
   "id": "e88a713e-2e78-42d2-a7b0-d06d41b422de",
   "metadata": {},
   "outputs": [
    {
     "name": "stdout",
     "output_type": "stream",
     "text": [
      "  work_year experience_level employment_type                 job_title\n",
      "0      2024               SE              FT               AI Engineer\n",
      "1      2024               SE              FT               AI Engineer\n",
      "2      2024               SE              FT             Data Engineer\n",
      "3      2024               SE              FT             Data Engineer\n",
      "4      2024               SE              FT Machine Learning Engineer\n",
      "5      2024               SE              FT Machine Learning Engineer\n",
      "  salary_in_usd employee_residence remote_ratio company_location company_size\n",
      "0        202730                 US            0               US            M\n",
      "1         92118                 US            0               US            M\n",
      "2        130500                 US            0               US            M\n",
      "3         96000                 US            0               US            M\n",
      "4        190000                 US            0               US            M\n",
      "5        160000                 US            0               US            M\n",
      "  remote_type\n",
      "0   IN-PERSON\n",
      "1   IN-PERSON\n",
      "2   IN-PERSON\n",
      "3   IN-PERSON\n",
      "4   IN-PERSON\n",
      "5   IN-PERSON\n",
      "\n"
     ]
    }
   ],
   "source": [
    "# Usamos un conversor local para pasar el DataFrame de Pandas a R\n",
    "with localconverter(ro.default_converter + pandas2ri.converter):\n",
    "    r_df_jobs_salary = ro.conversion.py2rpy(df_jobs_salary)\n",
    "\n",
    "# Asignamos el DataFrame a una variable en el entorno R\n",
    "ro.globalenv['df_jobs_salary'] = r_df_jobs_salary\n",
    "\n",
    "# Confirmamos que se asignó correctamente\n",
    "print(ro.r('head(df_jobs_salary)'))"
   ]
  },
  {
   "cell_type": "markdown",
   "id": "6c2e4d4c-ad83-4599-9f7a-488ae526f3c5",
   "metadata": {},
   "source": [
    "#### Analisis exploratorio de datos con R"
   ]
  },
  {
   "cell_type": "code",
   "execution_count": 37,
   "id": "d4162b72-0445-4b7f-81a3-b5d79723b640",
   "metadata": {},
   "outputs": [
    {
     "name": "stderr",
     "output_type": "stream",
     "text": [
      "R callback write-console: --- Estructura del dataset ---\n",
      "  \n"
     ]
    },
    {
     "name": "stdout",
     "output_type": "stream",
     "text": [
      "'data.frame':\t16068 obs. of  10 variables:\n",
      " $ work_year         : int  2024 2024 2024 2024 2024 2024 2024 2024 2024 2024 ...\n",
      " $ experience_level  : Factor w/ 4 levels \"EN\",\"EX\",\"MI\",..: 4 4 4 4 4 4 3 1 1 4 ...\n",
      " $ employment_type   : Factor w/ 4 levels \"CT\",\"FL\",\"FT\",..: 3 3 3 3 3 3 3 3 3 3 ...\n",
      " $ job_title         : chr  \"AI Engineer\" \"AI Engineer\" \"Data Engineer\" \"Data Engineer\" ...\n",
      " $ salary_in_usd     : int  202730 92118 130500 96000 190000 160000 65000 101520 45864 172469 ...\n",
      " $ employee_residence: Factor w/ 80 levels \"AD\",\"AE\",\"AM\",..: 77 77 77 77 77 77 77 77 77 77 ...\n",
      " $ remote_ratio      : int  0 0 0 0 0 0 0 0 0 0 ...\n",
      " $ company_location  : Factor w/ 70 levels \"AD\",\"AE\",\"AM\",..: 68 68 68 68 68 68 68 68 68 68 ...\n",
      " $ company_size      : Factor w/ 3 levels \"L\",\"M\",\"S\": 2 2 2 2 2 2 2 2 2 2 ...\n",
      " $ remote_type       : chr  \"IN-PERSON\" \"IN-PERSON\" \"IN-PERSON\" \"IN-PERSON\" ...\n"
     ]
    },
    {
     "name": "stderr",
     "output_type": "stream",
     "text": [
      "R callback write-console: --- Resumen detallado de dataset ---\n",
      "  \n"
     ]
    },
    {
     "name": "stdout",
     "output_type": "stream",
     "text": [
      "-- Data Summary ------------------------\n",
      "                           Values        \n",
      "Name                       df_jobs_salary\n",
      "Number of rows             16068         \n",
      "Number of columns          10            \n",
      "_______________________                  \n",
      "Column type frequency:                   \n",
      "  character                2             \n",
      "  factor                   5             \n",
      "  numeric                  3             \n",
      "________________________                 \n",
      "Group variables            None          \n",
      "\n",
      "-- Variable type: character ----------------------------------------------------\n",
      "  skim_variable n_missing complete_rate min max empty n_unique whitespace\n",
      "\u001b[38;5;250m1\u001b[39m job_title             0             1   9  40     0      147          0\n",
      "\u001b[38;5;250m2\u001b[39m remote_type           0             1   6   9     0        3          0\n",
      "\n",
      "-- Variable type: factor -------------------------------------------------------\n",
      "  skim_variable      n_missing complete_rate ordered n_unique\n",
      "\u001b[38;5;250m1\u001b[39m experience_level           0             1 FALSE          4\n",
      "\u001b[38;5;250m2\u001b[39m employment_type            0             1 FALSE          4\n",
      "\u001b[38;5;250m3\u001b[39m employee_residence         0             1 FALSE         80\n",
      "\u001b[38;5;250m4\u001b[39m company_location           0             1 FALSE         70\n",
      "\u001b[38;5;250m5\u001b[39m company_size               0             1 FALSE          3\n",
      "  top_counts                            \n",
      "\u001b[38;5;250m1\u001b[39m SE: 10478, MI: 3865, EN: 1248, EX: 477\n",
      "\u001b[38;5;250m2\u001b[39m FT: 16006, PT: 32, CT: 22, FL: 8      \n",
      "\u001b[38;5;250m3\u001b[39m US: 14225, GB: 664, CA: 441, ES: 129  \n",
      "\u001b[38;5;250m4\u001b[39m US: 14260, GB: 669, CA: 440, ES: 126  \n",
      "\u001b[38;5;250m5\u001b[39m M: 15100, L: 850, S: 118              \n",
      "\n",
      "-- Variable type: numeric ------------------------------------------------------\n",
      "  skim_variable n_missing complete_rate     mean        sd    p0    p25    p50\n",
      "\u001b[38;5;250m1\u001b[39m work_year             0             1   \u001b[4m2\u001b[24m023.      0.633  \u001b[4m2\u001b[24m022   \u001b[4m2\u001b[24m023   \u001b[4m2\u001b[24m023\n",
      "\u001b[38;5;250m2\u001b[39m salary_in_usd         0             1 \u001b[4m1\u001b[24m\u001b[4m4\u001b[24m\u001b[4m8\u001b[24m301.  \u001b[4m6\u001b[24m\u001b[4m1\u001b[24m060.    \u001b[4m1\u001b[24m\u001b[4m5\u001b[24m000 \u001b[4m1\u001b[24m\u001b[4m0\u001b[24m\u001b[4m4\u001b[24m000 \u001b[4m1\u001b[24m\u001b[4m4\u001b[24m\u001b[4m1\u001b[24m525\n",
      "\u001b[38;5;250m3\u001b[39m remote_ratio          0             1     31.4    46.2       0      0      0\n",
      "     p75   p100 hist \n",
      "\u001b[38;5;250m1\u001b[39m   \u001b[4m2\u001b[24m024   \u001b[4m2\u001b[24m024 <U+2582><U+2581><U+2587><U+2581><U+2586>\n",
      "\u001b[38;5;250m2\u001b[39m \u001b[4m1\u001b[24m\u001b[4m8\u001b[24m\u001b[4m5\u001b[24m900 \u001b[4m3\u001b[24m\u001b[4m5\u001b[24m\u001b[4m5\u001b[24m000 <U+2583><U+2587><U+2586><U+2582><U+2581>\n",
      "\u001b[38;5;250m3\u001b[39m    100    100 <U+2587><U+2581><U+2581><U+2581><U+2583>\n"
     ]
    },
    {
     "name": "stderr",
     "output_type": "stream",
     "text": [
      "R callback write-console: --- Resumen estadistico ---\n",
      "  \n"
     ]
    },
    {
     "name": "stdout",
     "output_type": "stream",
     "text": [
      "   work_year    experience_level employment_type  job_title        \n",
      " Min.   :2022   EN: 1248         CT:   22        Length:16068      \n",
      " 1st Qu.:2023   EX:  477         FL:    8        Class :character  \n",
      " Median :2023   MI: 3865         FT:16006        Mode  :character  \n",
      " Mean   :2023   SE:10478         PT:   32                          \n",
      " 3rd Qu.:2024                                                      \n",
      " Max.   :2024                                                      \n",
      "                                                                   \n",
      " salary_in_usd    employee_residence  remote_ratio    company_location\n",
      " Min.   : 15000   US     :14225      Min.   :  0.00   US     :14260   \n",
      " 1st Qu.:104000   GB     :  664      1st Qu.:  0.00   GB     :  669   \n",
      " Median :141525   CA     :  441      Median :  0.00   CA     :  440   \n",
      " Mean   :148301   ES     :  129      Mean   : 31.38   ES     :  126   \n",
      " 3rd Qu.:185900   DE     :   75      3rd Qu.:100.00   DE     :   80   \n",
      " Max.   :355000   FR     :   53      Max.   :100.00   AU     :   55   \n",
      "                  (Other):  481                       (Other):  438   \n",
      " company_size remote_type       \n",
      " L:  850      Length:16068      \n",
      " M:15100      Class :character  \n",
      " S:  118      Mode  :character  \n",
      "                                \n",
      "                                \n",
      "                                \n",
      "                                \n"
     ]
    },
    {
     "name": "stderr",
     "output_type": "stream",
     "text": [
      "R callback write-console: --- Conteo por nivel de experiencia ---\n",
      "  \n"
     ]
    },
    {
     "name": "stdout",
     "output_type": "stream",
     "text": [
      "\n",
      "   EN    EX    MI    SE \n",
      " 1248   477  3865 10478 \n"
     ]
    },
    {
     "name": "stderr",
     "output_type": "stream",
     "text": [
      "R callback write-console: --- Salario promedio por nivel de experiencia ---\n",
      "  \n"
     ]
    },
    {
     "name": "stdout",
     "output_type": "stream",
     "text": [
      "\u001b[38;5;246m# A tibble: 4 x 2\u001b[39m\n",
      "  experience_level avg_salary\n",
      "  \u001b[3m\u001b[38;5;246m<fct>\u001b[39m\u001b[23m                 \u001b[3m\u001b[38;5;246m<dbl>\u001b[39m\u001b[23m\n",
      "\u001b[38;5;250m1\u001b[39m EN                   \u001b[4m9\u001b[24m\u001b[4m3\u001b[24m672.\n",
      "\u001b[38;5;250m2\u001b[39m EX                  \u001b[4m1\u001b[24m\u001b[4m9\u001b[24m\u001b[4m1\u001b[24m797.\n",
      "\u001b[38;5;250m3\u001b[39m MI                  \u001b[4m1\u001b[24m\u001b[4m2\u001b[24m\u001b[4m4\u001b[24m074.\n",
      "\u001b[38;5;250m4\u001b[39m SE                  \u001b[4m1\u001b[24m\u001b[4m6\u001b[24m\u001b[4m1\u001b[24m764.\n"
     ]
    },
    {
     "name": "stderr",
     "output_type": "stream",
     "text": [
      "R callback write-console: --- Salario promedio por tamanio de empresa ---\n",
      "  \n"
     ]
    },
    {
     "name": "stdout",
     "output_type": "stream",
     "text": [
      "\u001b[38;5;246m# A tibble: 3 x 2\u001b[39m\n",
      "  company_size avg_salary\n",
      "  \u001b[3m\u001b[38;5;246m<fct>\u001b[39m\u001b[23m             \u001b[3m\u001b[38;5;246m<dbl>\u001b[39m\u001b[23m\n",
      "\u001b[38;5;250m1\u001b[39m L               \u001b[4m1\u001b[24m\u001b[4m4\u001b[24m\u001b[4m7\u001b[24m883.\n",
      "\u001b[38;5;250m2\u001b[39m M               \u001b[4m1\u001b[24m\u001b[4m4\u001b[24m\u001b[4m8\u001b[24m790.\n",
      "\u001b[38;5;250m3\u001b[39m S                \u001b[4m8\u001b[24m\u001b[4m8\u001b[24m769.\n"
     ]
    },
    {
     "name": "stderr",
     "output_type": "stream",
     "text": [
      "R callback write-console: --- Salario promedio por empleo completo (FT) vs parcial (PT) ---\n",
      "  \n"
     ]
    },
    {
     "name": "stdout",
     "output_type": "stream",
     "text": [
      "\u001b[38;5;246m# A tibble: 4 x 2\u001b[39m\n",
      "  employment_type avg_salary\n",
      "  \u001b[3m\u001b[38;5;246m<fct>\u001b[39m\u001b[23m                \u001b[3m\u001b[38;5;246m<dbl>\u001b[39m\u001b[23m\n",
      "\u001b[38;5;250m1\u001b[39m CT                  \u001b[4m9\u001b[24m\u001b[4m8\u001b[24m020.\n",
      "\u001b[38;5;250m2\u001b[39m FL                  \u001b[4m5\u001b[24m\u001b[4m4\u001b[24m625 \n",
      "\u001b[38;5;250m3\u001b[39m FT                 \u001b[4m1\u001b[24m\u001b[4m4\u001b[24m\u001b[4m8\u001b[24m528.\n",
      "\u001b[38;5;250m4\u001b[39m PT                  \u001b[4m9\u001b[24m\u001b[4m2\u001b[24m858.\n"
     ]
    },
    {
     "name": "stderr",
     "output_type": "stream",
     "text": [
      "R callback write-console: --- Correlacion entre variables numericas ---\n",
      "  \n"
     ]
    },
    {
     "name": "stdout",
     "output_type": "stream",
     "text": [
      "              work_year salary_in_usd remote_ratio\n",
      "work_year         1.000         0.017       -0.173\n",
      "salary_in_usd     0.017         1.000       -0.039\n",
      "remote_ratio     -0.173        -0.039        1.000\n"
     ]
    }
   ],
   "source": [
    "ro.r('''\n",
    "library(dplyr)\n",
    "\n",
    "message(\"--- Estructura del dataset ---\")\n",
    "str(df_jobs_salary)\n",
    "\n",
    "message(\"--- Resumen detallado de dataset ---\")\n",
    "print(skim(df_jobs_salary))\n",
    "\n",
    "message(\"--- Resumen estadistico ---\")\n",
    "print(summary(df_jobs_salary))\n",
    "\n",
    "message(\"--- Conteo por nivel de experiencia ---\")\n",
    "print(table(df_jobs_salary$experience_level))\n",
    "\n",
    "message(\"--- Salario promedio por nivel de experiencia ---\")\n",
    "df_jobs_salary %>% \n",
    "  group_by(experience_level) %>% \n",
    "  summarise(avg_salary = mean(salary_in_usd, na.rm = TRUE)) %>% \n",
    "  print()\n",
    "\n",
    "message(\"--- Salario promedio por tamanio de empresa ---\")\n",
    "df_jobs_salary %>% \n",
    "  group_by(company_size) %>% \n",
    "  summarise(avg_salary = mean(salary_in_usd, na.rm = TRUE)) %>% \n",
    "  print()\n",
    "\n",
    "message(\"--- Salario promedio por empleo completo (FT) vs parcial (PT) ---\")\n",
    "df_jobs_salary %>% \n",
    "  group_by(employment_type) %>% \n",
    "  summarise(avg_salary = mean(salary_in_usd, na.rm = TRUE)) %>% \n",
    "  print()\n",
    "\n",
    "message(\"--- Correlacion entre variables numericas ---\")\n",
    "numeric_vars <- df_jobs_salary %>% select_if(is.numeric)\n",
    "cor_matrix <- cor(numeric_vars, use = \"complete.obs\")\n",
    "print(round(cor_matrix, 3))\n",
    "''')"
   ]
  },
  {
   "cell_type": "code",
   "execution_count": 41,
   "id": "8fa6dff9-755b-4457-a79a-dbf27b9bb327",
   "metadata": {},
   "outputs": [],
   "source": [
    "def visualizacion_r(df):\n",
    "    \"\"\"\n",
    "    Crea y guarda gráficos avanzados usando ggplot2 en R, \n",
    "    basado en el dataframe df_jobs_salary con datos de salarios.\n",
    "    \"\"\"\n",
    "    print(\"\\nVISUALIZACIÓN AVANZADA CON GGPLOT2\")\n",
    "    print(\"=\" * 50)\n",
    "    \n",
    "    try:\n",
    "        # Convierte pandas DataFrame a DataFrame R y asigna a variable 'data'\n",
    "        with localconverter(pandas2ri.converter):\n",
    "            df_r = pandas2ri.py2rpy(df)\n",
    "            ro.globalenv['data'] = df_r\n",
    "        \n",
    "        ro.r('''\n",
    "            library(ggplot2)\n",
    "            library(dplyr)\n",
    "            library(scales)\n",
    "            \n",
    "            # Convertir variables a factores con niveles definidos\n",
    "            data$experience_level <- factor(data$experience_level, levels = c(\"EN\", \"MI\", \"SE\", \"EX\"))\n",
    "            data$company_size <- factor(data$company_size, levels = c(\"S\", \"M\", \"L\"))\n",
    "            \n",
    "            # 1. Histograma distribución salario\n",
    "            p1 <- ggplot(data, aes(x = salary_in_usd)) +\n",
    "              geom_histogram(bins = 30, fill = \"skyblue\", color = \"black\") +\n",
    "              geom_density(aes(y = ..count.. * 10), color = \"darkblue\", size = 1) +\n",
    "              labs(title = \"Distribución de salario en USD\",\n",
    "                   x = \"Salario (USD)\", y = \"Frecuencia\") +\n",
    "              scale_x_continuous(labels = comma) +\n",
    "              theme_minimal()\n",
    "            ggsave(\"histograma_salario.png\", p1, width = 10, height = 6, dpi = 300)\n",
    "            \n",
    "            # 2. Cantidad de empleados por nivel de experiencia\n",
    "            p2 <- ggplot(data, aes(x = experience_level)) +\n",
    "              geom_bar(fill = \"skyblue\") +\n",
    "              labs(title = \"Cantidad de empleados por nivel de experiencia\",\n",
    "                   x = \"Nivel de experiencia\", y = \"Cantidad\") +\n",
    "              theme_minimal()\n",
    "            ggsave(\"empleados_por_experiencia.png\", p2, width = 8, height = 6, dpi = 300)\n",
    "            \n",
    "            # 3. Boxplot salario por nivel de experiencia\n",
    "            p3 <- ggplot(data, aes(x = experience_level, y = salary_in_usd)) +\n",
    "              geom_boxplot(fill = \"lightgreen\") +\n",
    "              labs(title = \"Salario según nivel de experiencia\",\n",
    "                   x = \"Nivel de experiencia\", y = \"Salario (USD)\") +\n",
    "              scale_y_continuous(labels = comma) +\n",
    "              theme_minimal()\n",
    "            ggsave(\"boxplot_salario_experiencia.png\", p3, width = 8, height = 6, dpi = 300)\n",
    "            \n",
    "            # 4. Cantidad de empleados por tamaño de empresa\n",
    "            p4 <- ggplot(data, aes(x = company_size)) +\n",
    "              geom_bar(fill = \"orange\") +\n",
    "              labs(title = \"Cantidad de empleados por tamaño de empresa\",\n",
    "                   x = \"Tamaño de la empresa\", y = \"Cantidad\") +\n",
    "              theme_minimal()\n",
    "            ggsave(\"empleados_por_empresa.png\", p4, width = 8, height = 6, dpi = 300)\n",
    "            \n",
    "            # 5. Boxplot salario por tamaño de empresa\n",
    "            p5 <- ggplot(data, aes(x = company_size, y = salary_in_usd)) +\n",
    "              geom_boxplot(fill = \"lightcoral\") +\n",
    "              labs(title = \"Salario según tamaño de la empresa\",\n",
    "                   x = \"Tamaño de la empresa\", y = \"Salario (USD)\") +\n",
    "              scale_y_continuous(labels = comma) +\n",
    "              theme_minimal()\n",
    "            ggsave(\"boxplot_salario_empresa.png\", p5, width = 8, height = 6, dpi = 300)\n",
    "            \n",
    "            # 6. Boxplot salario por experiencia y tamaño empresa (facet)\n",
    "            p6 <- ggplot(data, aes(x = experience_level, y = salary_in_usd, fill = experience_level)) +\n",
    "              geom_boxplot() +\n",
    "              facet_wrap(~ company_size) +\n",
    "              labs(title = \"Salario por nivel de experiencia y tamaño de empresa\",\n",
    "                   x = \"Nivel de experiencia\", y = \"Salario (USD)\") +\n",
    "              scale_y_continuous(labels = comma) +\n",
    "              scale_fill_brewer(palette = \"Pastel1\") +\n",
    "              theme_minimal()\n",
    "            ggsave(\"boxplot_salario_experiencia_empresa.png\", p6, width = 12, height = 6, dpi = 300)\n",
    "            \n",
    "            # 7. Salario promedio por experiencia y tamaño empresa (barras)\n",
    "            resumen <- data %>%\n",
    "              group_by(experience_level, company_size) %>%\n",
    "              summarise(mean_salary = mean(salary_in_usd), .groups = \"drop\") %>%\n",
    "              mutate(experience_level = factor(experience_level, levels = c(\"EN\", \"MI\", \"SE\", \"EX\")),\n",
    "                     company_size = factor(company_size, levels = c(\"S\", \"M\", \"L\")))\n",
    "            \n",
    "            p7 <- ggplot(resumen, aes(x = company_size, y = mean_salary, fill = experience_level)) +\n",
    "              geom_col(position = \"dodge\") +\n",
    "              labs(title = \"Salario promedio por experiencia y tamaño de empresa\",\n",
    "                   x = \"Tamaño de empresa\", y = \"Salario promedio (USD)\", fill = \"Nivel de experiencia\") +\n",
    "              scale_y_continuous(labels = comma) +\n",
    "              scale_fill_brewer(palette = \"Set2\") +\n",
    "              theme_minimal()\n",
    "            ggsave(\"promedio_salario_experiencia_empresa.png\", p7, width = 10, height = 6, dpi = 300)\n",
    "            \n",
    "            # 8. Top 10 trabajos mejor pagados (barra horizontal)\n",
    "            top_jobs <- data %>%\n",
    "              group_by(job_title) %>%\n",
    "              summarise(avg_salary = mean(salary_in_usd, na.rm = TRUE)) %>%\n",
    "              arrange(desc(avg_salary)) %>%\n",
    "              slice(1:10)\n",
    "            \n",
    "            p8 <- ggplot(top_jobs, aes(x = reorder(job_title, avg_salary), y = avg_salary)) +\n",
    "              geom_bar(stat = \"identity\", fill = \"purple\") +\n",
    "              labs(title = \"Top 10 trabajos mejor pagados\",\n",
    "                   x = \"Puesto\", y = \"Salario promedio (USD)\") +\n",
    "              scale_y_continuous(labels = comma) +\n",
    "              coord_flip() +\n",
    "              theme_minimal()\n",
    "            ggsave(\"top10_trabajos_mejor_pagados.png\", p8, width = 10, height = 6, dpi = 300)\n",
    "            \n",
    "            # 9. Distribución nivel experiencia en top 10 trabajos mejor pagados\n",
    "            data_top_jobs <- data %>% filter(job_title %in% top_jobs$job_title)\n",
    "            \n",
    "            p9 <- ggplot(data_top_jobs, aes(x = job_title, fill = experience_level)) +\n",
    "              geom_bar(position = \"dodge\") +\n",
    "              labs(title = \"Distribución del nivel de experiencia en los 10 trabajos mejor pagados\",\n",
    "                   x = \"Título del trabajo\", y = \"Cantidad\", fill = \"Nivel de experiencia\") +\n",
    "              theme_minimal() +\n",
    "              theme(axis.text.x = element_text(angle = 45, hjust = 1))\n",
    "            ggsave(\"distribucion_experiencia_top10.png\", p9, width = 12, height = 6, dpi = 300)\n",
    "            \n",
    "            # 10. Distribución tamaño empresa en top 10 trabajos mejor pagados\n",
    "            data_top_jobs$job_title <- factor(data_top_jobs$job_title, levels = top_jobs$job_title)\n",
    "            data_top_jobs$company_size <- factor(data_top_jobs$company_size, levels = c(\"S\", \"M\", \"L\"))\n",
    "            \n",
    "            p10 <- ggplot(data_top_jobs, aes(x = job_title, fill = company_size)) +\n",
    "              geom_bar(position = \"dodge\") +\n",
    "              labs(title = \"Distribución de tamaños de empresa en los 10 trabajos mejor pagados\",\n",
    "                   x = \"Título del trabajo\", y = \"Cantidad de empleados\", fill = \"Tamaño de empresa\") +\n",
    "              theme_minimal() +\n",
    "              theme(axis.text.x = element_text(angle = 45, hjust = 1))\n",
    "            ggsave(\"distribucion_empresa_top10.png\", p10, width = 12, height = 6, dpi = 300)\n",
    "        ''')\n",
    "        \n",
    "        print(\"\\nTodos los gráficos han sido generados y guardados como archivos PNG.\")\n",
    "        \n",
    "    except Exception as e:\n",
    "        print(f\"Error en la visualización: {e}\")"
   ]
  },
  {
   "cell_type": "code",
   "execution_count": 42,
   "id": "6dde1587-4d26-42e7-9bb2-4bbeab53fc0b",
   "metadata": {},
   "outputs": [
    {
     "name": "stdout",
     "output_type": "stream",
     "text": [
      "\n",
      "VISUALIZACIÓN AVANZADA CON GGPLOT2\n",
      "==================================================\n",
      "\n",
      "Todos los gráficos han sido generados y guardados como archivos PNG.\n"
     ]
    }
   ],
   "source": [
    "visualizacion_r(df_jobs_salary)"
   ]
  },
  {
   "cell_type": "code",
   "execution_count": null,
   "id": "9ab9b763-631f-4e5c-980f-7ca41ed3eafb",
   "metadata": {},
   "outputs": [],
   "source": []
  }
 ],
 "metadata": {
  "kernelspec": {
   "display_name": "Python 3 (ipykernel)",
   "language": "python",
   "name": "python3"
  },
  "language_info": {
   "codemirror_mode": {
    "name": "ipython",
    "version": 3
   },
   "file_extension": ".py",
   "mimetype": "text/x-python",
   "name": "python",
   "nbconvert_exporter": "python",
   "pygments_lexer": "ipython3",
   "version": "3.11.0"
  }
 },
 "nbformat": 4,
 "nbformat_minor": 5
}
